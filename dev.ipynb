{
 "cells": [
  {
   "cell_type": "code",
   "execution_count": 143,
   "metadata": {},
   "outputs": [],
   "source": [
    "import os\n",
    "import re\n",
    "from collections import defaultdict\n",
    "import numpy as np\n",
    "import pandas as pd\n",
    "from transformers import AutoModel, AutoTokenizer, AutoModelForSequenceClassification, pipeline, AutoModelForCausalLM\n",
    "from sentence_transformers import SentenceTransformer, util\n",
    "from datasets import load_dataset_builder, load_dataset, DatasetDict, concatenate_datasets, load_from_disk, Audio\n",
    "import matplotlib.pyplot as plt\n",
    "from evaluate import load\n",
    "\n",
    "from pydub import AudioSegment\n",
    "import speech_recognition as sr"
   ]
  },
  {
   "cell_type": "markdown",
   "metadata": {},
   "source": [
    "# Inspecting FLEURS Dataset"
   ]
  },
  {
   "cell_type": "code",
   "execution_count": 4,
   "metadata": {},
   "outputs": [
    {
     "data": {
      "text/plain": [
       "{'sentence': Value(dtype='string', id=None),\n",
       " 'URL': Value(dtype='string', id=None),\n",
       " 'id': Value(dtype='int32', id=None),\n",
       " 'domain': Value(dtype='string', id=None),\n",
       " 'topic': Value(dtype='string', id=None),\n",
       " 'has_image': Value(dtype='int32', id=None),\n",
       " 'has_hyperlink': Value(dtype='int32', id=None),\n",
       " 'fleurs_id': Value(dtype='int32', id=None),\n",
       " 'filename': Sequence(feature=Value(dtype='string', id=None), length=-1, id=None),\n",
       " 'raw_transcription': Value(dtype='string', id=None),\n",
       " 'transcription': Value(dtype='string', id=None),\n",
       " 'num_samples': Sequence(feature=Value(dtype='int64', id=None), length=-1, id=None),\n",
       " 'speaker_id': Sequence(feature=Value(dtype='int64', id=None), length=-1, id=None),\n",
       " 'gender': Sequence(feature=Value(dtype='string', id=None), length=-1, id=None),\n",
       " 'whisper_asr': Sequence(feature=Value(dtype='string', id=None), length=-1, id=None),\n",
       " 'whisper_asr_cer': Sequence(feature=Value(dtype='float64', id=None), length=-1, id=None),\n",
       " 'whisper_asr_wer': Sequence(feature=Value(dtype='float64', id=None), length=-1, id=None),\n",
       " 'whisper_asr_translation': Sequence(feature=Value(dtype='string', id=None), length=-1, id=None),\n",
       " 'seamlessm4t_asr': Sequence(feature=Value(dtype='string', id=None), length=-1, id=None),\n",
       " 'seamlessm4t_asr_cer': Sequence(feature=Value(dtype='float64', id=None), length=-1, id=None),\n",
       " 'seamlessm4t_asr_wer': Sequence(feature=Value(dtype='float64', id=None), length=-1, id=None),\n",
       " 'seamlessm4t_asr_translation': Sequence(feature=Value(dtype='string', id=None), length=-1, id=None),\n",
       " 'index_id': Value(dtype='int64', id=None),\n",
       " 'category': ClassLabel(names=['science/technology', 'travel', 'politics', 'sports', 'health', 'entertainment', 'geography'], id=None),\n",
       " 'text': Value(dtype='string', id=None),\n",
       " 'audio': Sequence(feature=Audio(sampling_rate=16000, mono=True, decode=True, id=None), length=-1, id=None)}"
      ]
     },
     "execution_count": 4,
     "metadata": {},
     "output_type": "execute_result"
    }
   ],
   "source": [
    "data_builder = load_dataset_builder(\"WueNLP/sib-fleurs\", \"tur_Latn\")\n",
    "\n",
    "data_builder.info.features"
   ]
  },
  {
   "cell_type": "code",
   "execution_count": 124,
   "metadata": {},
   "outputs": [],
   "source": [
    "category_map = {\n",
    "    0: \"science/technology\",\n",
    "    1: \"travel\",\n",
    "    2: \"politics\",\n",
    "    3: \"sports\",\n",
    "    4: \"health\",\n",
    "    5: \"entertainment\",\n",
    "    6: \"geography\"\n",
    "}\n",
    "\n",
    "language_map = {\n",
    "    \"tur_Latn\": \"tr-TR\",\n",
    "    \"eng_Latn\": \"en-US\",\n",
    "    \"spa_Latn\": \"es-ES\",\n",
    "    \"fra_Latn\": \"fr-FR\",\n",
    "    \"deu_Latn\": \"de-DE\"\n",
    "}"
   ]
  },
  {
   "cell_type": "code",
   "execution_count": 136,
   "metadata": {},
   "outputs": [],
   "source": [
    "def remove_cols(dataset, columns_to_remove):\n",
    "    try:\n",
    "        return dataset.remove_columns(column_names=columns_to_remove)\n",
    "    except:\n",
    "        return dataset\n",
    "\n",
    "def add_language(dataset, language):\n",
    "    dataset[\"language\"] = language\n",
    "    return dataset\n",
    "\n",
    "def proprocess_topic(dataset):\n",
    "    topic = dataset[\"topic\"]\n",
    "    splitted_topic = re.split(r\"/\", topic)\n",
    "\n",
    "    new_topics = []\n",
    "    for element in splitted_topic:\n",
    "        splitted_element = re.split(r\"_\", element)\n",
    "        new_element = \" \".join(splitted_element)\n",
    "        new_topics.append(new_element.lower())\n",
    "    dataset[\"topic\"] = \", \".join(new_topics)\n",
    "    return dataset \n",
    "\n",
    "def create_hf_ddict(train_split, validation_split, test_split):\n",
    "    return DatasetDict({\"train\": train_split,\n",
    "                        \"validation\": validation_split,\n",
    "                        \"test\": test_split})"
   ]
  },
  {
   "cell_type": "code",
   "execution_count": 147,
   "metadata": {},
   "outputs": [],
   "source": [
    "load_from_local = True\n",
    "\n",
    "if load_from_local:\n",
    "    proc_dataset_dict = load_from_disk(\"./datasets/processed/proc_dataset_dict\")\n",
    "else:\n",
    "    # Load datasets\n",
    "    fleurs_tr_ddict = load_dataset(\"WueNLP/sib-fleurs\", \"tur_Latn\")\n",
    "    fleurs_en_ddict = load_dataset(\"WueNLP/sib-fleurs\", \"eng_Latn\")\n",
    "    fleurs_sp_ddict = load_dataset(\"WueNLP/sib-fleurs\", \"spa_Latn\")\n",
    "    fleurs_fr_ddict = load_dataset(\"WueNLP/sib-fleurs\", \"fra_Latn\")\n",
    "    fleurs_du_ddict = load_dataset(\"WueNLP/sib-fleurs\", \"deu_Latn\")\n",
    "\n",
    "    fleurs_tr_ddict.save_to_disk(\"./datasets/raw/fleurs_tr_ddict\")\n",
    "    fleurs_en_ddict.save_to_disk(\"./datasets/raw/fleurs_en_ddict\")\n",
    "    fleurs_sp_ddict.save_to_disk(\"./datasets/raw/fleurs_sp_ddict\")\n",
    "    fleurs_fr_ddict.save_to_disk(\"./datasets/raw/fleurs_fr_ddict\")\n",
    "    fleurs_du_ddict.save_to_disk(\"./datasets/raw/fleurs_du_ddict\")\n",
    "\n",
    "    dataset_dicts = {\"tur_Latn\": fleurs_tr_ddict, \n",
    "                    \"eng_Latn\": fleurs_en_ddict, \n",
    "                    \"spa_Latn\": fleurs_sp_ddict, \n",
    "                    \"fra_Latn\": fleurs_fr_ddict, \n",
    "                    \"deu_Latn\": fleurs_du_ddict}\n",
    "    \n",
    "    columns_to_remove = [\"whisper_asr\",\"whisper_asr_cer\",\"whisper_asr_wer\",\"whisper_asr_translation\",\"seamlessm4t_asr\",\"seamlessm4t_asr_cer\",\"seamlessm4t_asr_wer\",\"seamlessm4t_asr_translation\",\n",
    "                     \"index_id\",\"speaker_id\",\"raw_transcription\",\"transcription\",\"has_image\",\"has_hyperlink\",\"id\",\"sentence\",\"URL\",\"num_samples\",\"filename\"]\n",
    "\n",
    "    splits = {\"train\": [],\n",
    "            \"validation\":[],\n",
    "            \"test\": []}\n",
    "    for split in [\"train\",\"validation\",\"test\"]:\n",
    "        for language, dataset_dict in dataset_dicts.items():\n",
    "            dataset_dict[split] = remove_cols(dataset_dict[split], columns_to_remove)\n",
    "            dataset_dict[split] = dataset_dict[split].map(lambda x: add_language(x, language_map[language]))\n",
    "            dataset_dict[split] = dataset_dict[split].map(proprocess_topic)\n",
    "            \n",
    "            splits[split].append(dataset_dict[split])\n",
    "\n",
    "    train_split = concatenate_datasets(splits[\"train\"])\n",
    "    val_split = concatenate_datasets(splits[\"validation\"])\n",
    "    test_split = concatenate_datasets(splits[\"test\"])\n",
    "\n",
    "    proc_dataset_dict = create_hf_ddict(train_split,val_split,test_split)\n",
    "\n",
    "    proc_dataset_dict.save_to_disk(\"./datasets/processed/proc_dataset_dict\")"
   ]
  },
  {
   "cell_type": "code",
   "execution_count": 148,
   "metadata": {},
   "outputs": [
    {
     "data": {
      "text/plain": [
       "DatasetDict({\n",
       "    train: Dataset({\n",
       "        features: ['domain', 'topic', 'fleurs_id', 'gender', 'category', 'text', 'audio', 'language'],\n",
       "        num_rows: 3595\n",
       "    })\n",
       "    validation: Dataset({\n",
       "        features: ['domain', 'topic', 'fleurs_id', 'gender', 'category', 'text', 'audio', 'language'],\n",
       "        num_rows: 343\n",
       "    })\n",
       "    test: Dataset({\n",
       "        features: ['domain', 'topic', 'fleurs_id', 'gender', 'category', 'text', 'audio', 'language'],\n",
       "        num_rows: 857\n",
       "    })\n",
       "})"
      ]
     },
     "execution_count": 148,
     "metadata": {},
     "output_type": "execute_result"
    }
   ],
   "source": [
    "proc_dataset_dict"
   ]
  },
  {
   "cell_type": "code",
   "execution_count": 81,
   "metadata": {},
   "outputs": [],
   "source": [
    "total_domain = defaultdict(int)\n",
    "total_topic = defaultdict(int)\n",
    "total_category = defaultdict(int)\n",
    "total_gender = defaultdict(int)\n",
    "num_audio = []\n",
    "for row in reduced_fleurs_tr:\n",
    "    domain = row[\"domain\"]\n",
    "    topic = row[\"topic\"]\n",
    "    category = row[\"category\"]\n",
    "    total_domain[domain] += 1\n",
    "    total_topic[topic] += 1\n",
    "    total_category[category] += 1\n",
    "    num_audio.append(len(row[\"audio\"]))\n",
    "    for gender in row[\"gender\"]:\n",
    "        total_gender[gender] += 1"
   ]
  },
  {
   "cell_type": "code",
   "execution_count": 82,
   "metadata": {},
   "outputs": [
    {
     "name": "stdout",
     "output_type": "stream",
     "text": [
      "defaultdict(<class 'int'>, {'wikibooks': 191, 'wikivoyage': 256, 'wikinews': 245})\n",
      "defaultdict(<class 'int'>, {'Geography, Turkey': 4, 'World_War_II/Submarines': 3, 'Natural wonders/Hill stations in India': 2, 'travel, accomodation': 13, 'Politics': 19, 'politics': 13, 'entertainment': 13, 'Travel': 35, 'crime': 4, 'travel, archaeology': 1, 'Science/Radiography': 5, 'How_Things_Work/Nuclear_Bomb': 1, 'Internet, Communication': 3, 'Science/distance runner': 6, 'Crime and Law': 5, 'Sports': 28, 'The_Elements/Matter_Is_The_Stuff_Around_You': 5, 'South_America/The_Amazon': 2, 'Science/Sensory Systems': 3, 'Communication theory/uses and gratifications': 1, 'Science/Earth Science': 3, 'Economy and business': 2, 'sports': 28, 'travel, food': 4, 'Antartica, Travel': 9, 'how things work, lightbulb': 2, 'Science/First Aid': 3, 'Reason to travel/Funeral travel': 3, 'Disease': 3, 'video/dvd': 4, 'Science': 12, 'Culture and entertainment': 6, 'International': 2, 'travel': 43, 'how things work, ice skates': 1, 'American education/technology (Social media)': 1, 'sport': 7, 'sailing': 7, 'Managing Groups & Teams/Motivation': 2, 'Cognitive Psycology and Neuroscience/MRI': 5, 'Transport/History': 1, 'health': 10, 'Cognitive Psycology and Neuroscience/Cognitive Neuropsychology': 4, 'Communication, Internet': 2, 'travel, sports events': 3, 'American_Revolution/The_Declaration_of_Independence': 2, 'Solar_System/Space_exploration': 1, 'Accident': 2, 'Travel, Insects': 2, 'solar system, sun': 3, 'sciece': 3, 'Science/The Organ Systems': 2, 'Science/General Biology': 3, 'Languages/Korean': 1, 'Travel, Sports': 2, 'Communication': 10, 'big cats, lion': 1, 'travel, wildlife, photography': 1, 'World_War_II/Battle_of_Britain': 3, 'travel, safety': 15, 'Law': 4, 'dinosaurs, triceratops': 4, 'Fundamentals_of_Transportation/Traffic_Flow': 1, 'science': 6, 'Science and technology': 7, 'World Heritage, Serengeti': 1, 'Travel, History': 2, 'photography': 3, 'Health': 11, 'Photography': 4, 'American_Revolution/The_Battles_of_Trenton_and_Princeton': 1, 'european history/world war': 1, 'Natural wonders/Cherry Blossom': 1, 'travel, culture': 5, 'Natural wonders/Rainforest': 2, 'biology, circulatory system': 2, 'Travel, Writing': 2, 'travel, health': 5, 'travel, tourism': 10, 'Discovery': 1, 'Communication, Applications': 4, 'business': 1, 'science and technology': 6, 'Natural wonders/Desert': 2, 'modern photography/lenses': 5, 'how things work, rocket': 1, 'roman culture/medicine': 4, 'how things work, laser': 4, 'Warfare': 3, 'Disasters and accidents': 11, 'Biology/Cells': 5, 'Introductory_Tourism': 5, 'Work, Travel': 3, 'Golf': 4, 'solar system, venus': 3, 'Natural wonders/Hiking in Norway': 3, 'Health, Travel': 2, 'travel, events': 2, 'Geography, Japan': 1, 'Science/Applied Ecology': 2, 'Crime': 2, 'crime and law': 4, 'Alchohol': 3, 'sports, horse riding': 2, 'european history/absolutism in europe': 1, 'The_Elements/Periodic_Table': 1, 'travel, art': 2, '': 2, 'travel, religion': 3, 'sports, organizations': 3, 'Research': 2, 'Natural wonders/Birdwatching': 2, 'How_Things_Work/Computer': 2, 'Sport': 7, 'entertrainment': 3, 'climate': 1, 'Fundamentals_of_Transportation/Introduction': 1, 'Crime and law': 1, 'travel, cuisine': 1, 'Study': 3, 'Weather': 3, 'sociology/agriculture': 1, 'Science/Disease': 4, 'solar system, jupiter, io': 2, 'Society': 2, 'elements, hydrogen': 3, 'The_Elements/Overview': 1, 'television': 4, 'American education/technology (role)': 1, 'Entertainment': 4, 'sociology/socialization': 1, 'Geography, Taiwan': 1, 'Communication theory/nonverbal comms': 1, 'American education/Special Needs ADD': 3, 'Biology/Kingdoms/Animals': 1, 'travel, driving': 2, 'Politics and conflicts': 5, 'United_States_Charters_of_Freedom/Constitution': 1, 'Shopping': 1, 'travel, internet': 2, 'Blended Learning/Asynchronous communication': 1, 'World_War_II/Battle_of_Poland': 1, 'wiki/Fencing': 2, 'Law and crime': 1, 'The_Cold_War/Introduction': 2, 'Lucid Dreaming/Introduction': 4, 'The_Elements/Mixtures': 1, 'science experiments, floating needle': 3, 'Environment': 1, 'Science/Animal Behavior': 3, 'travel, commute': 3, 'Geography, Luxembourg': 4, 'big cats, tiger': 1, 'Natural wonders/Glaciers': 1, 'United_States_Charters_of_Freedom/Declaration_of_Independence': 1, 'Glasses': 1, 'environment': 4, 'Media': 1, 'travel, music': 1, 'cold war/hungarian revolution': 2, 'history of technology/technological determism': 2, 'Natural wonders/Waterways': 2, 'Tragety': 1, 'Geography, Italy': 2, 'travel, history': 3, 'advanced interactive media': 2, 'travel, sports': 3, 'big cats': 1, 'World_War_II/Battleships': 2, 'Kings_and_Queens_of_England/The_Anglo-Saxons': 1, 'Ancient_Civilizations/Greeks': 2, 'Paleoanthropology/Genetics': 1, 'History_of_Rail_Transport/Early_Rail_Transportation': 1, 'elements, gold': 1, 'Cognitive Psycology and Neuroscience/Artificial Intelligence': 1, 'modern photography/format': 1, 'modern photography/composition': 1, 'Cognitive Psycology and Neuroscience/Convergent Thinking': 1, 'big cats, ocelot': 1, 'travel, wildlife': 1, 'Internatoinal': 1, 'Paleoanthropology/Oldowan Period': 1, 'law': 1, 'accident': 1, 'disease, research, canada': 1, 'accordion/right hand': 1, 'travel, children': 1})\n",
      "defaultdict(<class 'int'>, {6: 56, 0: 166, 5: 65, 2: 91, 1: 149, 3: 87, 4: 78})\n",
      "defaultdict(<class 'int'>, {'FEMALE': 855, 'MALE': 383})\n",
      "[3, 3, 1, 2, 3, 3, 2, 2, 2, 2, 2, 2, 2, 1, 2, 1, 2, 3, 2, 2, 1, 2, 1, 2, 2, 2, 1, 3, 2, 2, 3, 1, 1, 3, 3, 2, 1, 2, 2, 1, 1, 2, 2, 2, 1, 2, 1, 2, 1, 1, 1, 1, 1, 2, 1, 1, 2, 2, 2, 2, 2, 2, 2, 1, 2, 2, 3, 1, 2, 3, 1, 2, 2, 2, 2, 3, 2, 1, 3, 1, 2, 1, 2, 2, 3, 1, 2, 2, 2, 2, 1, 2, 1, 2, 2, 2, 2, 2, 2, 2, 2, 2, 2, 1, 1, 2, 2, 2, 1, 1, 2, 2, 3, 2, 1, 1, 1, 2, 1, 2, 1, 2, 2, 1, 1, 2, 2, 1, 1, 3, 2, 1, 1, 1, 1, 2, 2, 3, 2, 3, 2, 2, 1, 2, 2, 2, 1, 2, 3, 2, 3, 2, 1, 2, 2, 2, 2, 3, 1, 2, 1, 1, 2, 3, 2, 2, 2, 1, 3, 2, 2, 1, 2, 3, 2, 2, 1, 1, 2, 3, 2, 2, 2, 2, 2, 1, 1, 1, 2, 2, 2, 1, 2, 2, 2, 3, 2, 2, 1, 2, 2, 1, 1, 2, 1, 2, 3, 1, 2, 1, 2, 1, 1, 2, 2, 2, 2, 2, 2, 3, 2, 1, 3, 1, 2, 2, 2, 1, 1, 2, 2, 3, 1, 1, 2, 2, 2, 1, 3, 3, 3, 2, 1, 1, 3, 2, 1, 3, 1, 2, 3, 2, 2, 2, 3, 1, 1, 2, 3, 2, 1, 3, 2, 2, 1, 1, 1, 2, 1, 1, 1, 1, 1, 2, 3, 3, 1, 3, 1, 1, 2, 2, 2, 2, 1, 2, 3, 1, 1, 2, 1, 1, 2, 2, 3, 1, 1, 2, 2, 1, 1, 2, 1, 1, 1, 1, 2, 2, 3, 2, 1, 1, 2, 1, 3, 2, 2, 2, 2, 3, 3, 2, 1, 2, 1, 1, 2, 2, 1, 2, 1, 2, 2, 2, 1, 2, 2, 1, 3, 1, 1, 2, 1, 1, 1, 3, 2, 1, 1, 3, 1, 1, 1, 3, 1, 3, 1, 2, 2, 1, 2, 2, 1, 2, 2, 2, 1, 2, 2, 2, 1, 1, 2, 2, 2, 2, 2, 1, 2, 2, 1, 1, 2, 2, 2, 2, 2, 1, 2, 2, 1, 2, 1, 1, 1, 2, 1, 2, 3, 3, 1, 1, 3, 3, 2, 2, 3, 1, 2, 2, 3, 1, 1, 2, 1, 2, 2, 1, 3, 2, 1, 2, 3, 2, 2, 2, 3, 1, 2, 2, 2, 2, 1, 1, 2, 1, 2, 2, 1, 1, 2, 2, 1, 2, 1, 2, 1, 2, 1, 2, 2, 1, 1, 2, 2, 2, 2, 2, 1, 2, 2, 1, 1, 1, 1, 1, 2, 1, 3, 1, 1, 2, 2, 1, 1, 2, 3, 2, 2, 1, 2, 2, 1, 1, 1, 1, 1, 3, 1, 2, 1, 1, 2, 2, 3, 1, 2, 2, 3, 3, 2, 1, 2, 1, 2, 1, 2, 1, 1, 2, 1, 2, 1, 1, 2, 2, 1, 1, 2, 1, 2, 2, 2, 2, 2, 3, 1, 2, 1, 2, 2, 2, 2, 3, 3, 2, 1, 3, 2, 3, 2, 2, 1, 3, 2, 3, 3, 2, 1, 2, 2, 1, 3, 2, 2, 1, 3, 2, 1, 2, 1, 2, 3, 2, 3, 1, 3, 1, 2, 2, 1, 2, 2, 2, 1, 3, 2, 3, 3, 2, 2, 1, 1, 2, 1, 3, 2, 1, 3, 2, 1, 2, 2, 2, 2, 2, 1, 2, 2, 2, 2, 2, 2, 2, 2, 2, 1, 2, 2, 1, 2, 2, 2, 1, 2, 1, 2, 2, 2, 2, 3, 1, 3, 2, 1, 2, 2, 3, 2, 2, 1, 2, 2, 2, 1, 1, 3, 2, 3, 1, 1, 2, 1, 2, 2, 2, 2, 1, 1, 1, 3, 2, 2, 2, 1, 2, 1, 1, 2, 2, 2, 2, 2, 1, 2, 1, 2, 2, 2, 2, 2, 1, 1, 2, 3, 2, 1, 2, 3, 2, 2, 2, 1, 2, 1, 1, 2, 1, 1, 1, 3, 3]\n"
     ]
    }
   ],
   "source": [
    "print(total_domain)\n",
    "print(total_topic)\n",
    "print(total_category)\n",
    "print(total_gender)\n",
    "print(num_audio)"
   ]
  },
  {
   "cell_type": "code",
   "execution_count": 83,
   "metadata": {},
   "outputs": [
    {
     "data": {
      "text/plain": [
       "dict_keys(['Geography, Turkey', 'World_War_II/Submarines', 'Natural wonders/Hill stations in India', 'travel, accomodation', 'Politics', 'politics', 'entertainment', 'Travel', 'crime', 'travel, archaeology', 'Science/Radiography', 'How_Things_Work/Nuclear_Bomb', 'Internet, Communication', 'Science/distance runner', 'Crime and Law', 'Sports', 'The_Elements/Matter_Is_The_Stuff_Around_You', 'South_America/The_Amazon', 'Science/Sensory Systems', 'Communication theory/uses and gratifications', 'Science/Earth Science', 'Economy and business', 'sports', 'travel, food', 'Antartica, Travel', 'how things work, lightbulb', 'Science/First Aid', 'Reason to travel/Funeral travel', 'Disease', 'video/dvd', 'Science', 'Culture and entertainment', 'International', 'travel', 'how things work, ice skates', 'American education/technology (Social media)', 'sport', 'sailing', 'Managing Groups & Teams/Motivation', 'Cognitive Psycology and Neuroscience/MRI', 'Transport/History', 'health', 'Cognitive Psycology and Neuroscience/Cognitive Neuropsychology', 'Communication, Internet', 'travel, sports events', 'American_Revolution/The_Declaration_of_Independence', 'Solar_System/Space_exploration', 'Accident', 'Travel, Insects', 'solar system, sun', 'sciece', 'Science/The Organ Systems', 'Science/General Biology', 'Languages/Korean', 'Travel, Sports', 'Communication', 'big cats, lion', 'travel, wildlife, photography', 'World_War_II/Battle_of_Britain', 'travel, safety', 'Law', 'dinosaurs, triceratops', 'Fundamentals_of_Transportation/Traffic_Flow', 'science', 'Science and technology', 'World Heritage, Serengeti', 'Travel, History', 'photography', 'Health', 'Photography', 'American_Revolution/The_Battles_of_Trenton_and_Princeton', 'european history/world war', 'Natural wonders/Cherry Blossom', 'travel, culture', 'Natural wonders/Rainforest', 'biology, circulatory system', 'Travel, Writing', 'travel, health', 'travel, tourism', 'Discovery', 'Communication, Applications', 'business', 'science and technology', 'Natural wonders/Desert', 'modern photography/lenses', 'how things work, rocket', 'roman culture/medicine', 'how things work, laser', 'Warfare', 'Disasters and accidents', 'Biology/Cells', 'Introductory_Tourism', 'Work, Travel', 'Golf', 'solar system, venus', 'Natural wonders/Hiking in Norway', 'Health, Travel', 'travel, events', 'Geography, Japan', 'Science/Applied Ecology', 'Crime', 'crime and law', 'Alchohol', 'sports, horse riding', 'european history/absolutism in europe', 'The_Elements/Periodic_Table', 'travel, art', '', 'travel, religion', 'sports, organizations', 'Research', 'Natural wonders/Birdwatching', 'How_Things_Work/Computer', 'Sport', 'entertrainment', 'climate', 'Fundamentals_of_Transportation/Introduction', 'Crime and law', 'travel, cuisine', 'Study', 'Weather', 'sociology/agriculture', 'Science/Disease', 'solar system, jupiter, io', 'Society', 'elements, hydrogen', 'The_Elements/Overview', 'television', 'American education/technology (role)', 'Entertainment', 'sociology/socialization', 'Geography, Taiwan', 'Communication theory/nonverbal comms', 'American education/Special Needs ADD', 'Biology/Kingdoms/Animals', 'travel, driving', 'Politics and conflicts', 'United_States_Charters_of_Freedom/Constitution', 'Shopping', 'travel, internet', 'Blended Learning/Asynchronous communication', 'World_War_II/Battle_of_Poland', 'wiki/Fencing', 'Law and crime', 'The_Cold_War/Introduction', 'Lucid Dreaming/Introduction', 'The_Elements/Mixtures', 'science experiments, floating needle', 'Environment', 'Science/Animal Behavior', 'travel, commute', 'Geography, Luxembourg', 'big cats, tiger', 'Natural wonders/Glaciers', 'United_States_Charters_of_Freedom/Declaration_of_Independence', 'Glasses', 'environment', 'Media', 'travel, music', 'cold war/hungarian revolution', 'history of technology/technological determism', 'Natural wonders/Waterways', 'Tragety', 'Geography, Italy', 'travel, history', 'advanced interactive media', 'travel, sports', 'big cats', 'World_War_II/Battleships', 'Kings_and_Queens_of_England/The_Anglo-Saxons', 'Ancient_Civilizations/Greeks', 'Paleoanthropology/Genetics', 'History_of_Rail_Transport/Early_Rail_Transportation', 'elements, gold', 'Cognitive Psycology and Neuroscience/Artificial Intelligence', 'modern photography/format', 'modern photography/composition', 'Cognitive Psycology and Neuroscience/Convergent Thinking', 'big cats, ocelot', 'travel, wildlife', 'Internatoinal', 'Paleoanthropology/Oldowan Period', 'law', 'accident', 'disease, research, canada', 'accordion/right hand', 'travel, children'])"
      ]
     },
     "execution_count": 83,
     "metadata": {},
     "output_type": "execute_result"
    }
   ],
   "source": [
    "total_topic.keys()"
   ]
  },
  {
   "cell_type": "code",
   "execution_count": null,
   "metadata": {},
   "outputs": [
    {
     "data": {
      "image/png": "[encoded data removed]",
      "text/plain": [
       "<Figure size 800x500 with 1 Axes>"
      ]
     },
     "metadata": {},
     "output_type": "display_data"
    }
   ],
   "source": [
    "sorted_data = dict(sorted(total_category.items(), key=lambda item: item[1], reverse=True))\n",
    "\n",
    "# Extract categories and counts\n",
    "categories = list(sorted_data.keys())\n",
    "counts = list(sorted_data.values())\n",
    "\n",
    "# Create the bar plot\n",
    "plt.figure(figsize=(8, 5))\n",
    "plt.bar([category_map[category] for category in categories], counts, color='skyblue', edgecolor='black')\n",
    "\n",
    "# Add labels and title\n",
    "plt.xlabel(\"Category\")\n",
    "plt.ylabel(\"Counts\")\n",
    "plt.title(\"Bar Graph of Categories and Their Counts\")\n",
    "\n",
    "plt.xticks(rotation=45)\n",
    "\n",
    "# Show values on top of bars\n",
    "for i, count in enumerate(counts):\n",
    "    plt.text(category_map[categories[i]], count+1, str(count), ha='center', fontsize=12)\n",
    "\n",
    "# Display the graph\n",
    "plt.show()"
   ]
  },
  {
   "cell_type": "markdown",
   "metadata": {},
   "source": [
    "# Speech Recognition"
   ]
  },
  {
   "cell_type": "code",
   "execution_count": 67,
   "metadata": {},
   "outputs": [],
   "source": [
    "# Convert NumPy array to bytes\n",
    "audio_array = fleurs_tr[0][\"audio\"][0][\"array\"]\n",
    "fixed_audio_array = (audio_array * 2147483647).astype(np.int32)  # Scale for int32\n",
    "audio_bytes = fixed_audio_array.tobytes()\n",
    "\n",
    "# Create an AudioSegment\n",
    "audio_segment = AudioSegment(\n",
    "    data=audio_bytes,\n",
    "    sample_width=4,\n",
    "    frame_rate=fleurs_tr[0][\"audio\"][0][\"sampling_rate\"],\n",
    "    channels=1)"
   ]
  },
  {
   "cell_type": "code",
   "execution_count": 68,
   "metadata": {},
   "outputs": [
    {
     "name": "stdout",
     "output_type": "stream",
     "text": [
      "Recognized Speech: Türkiye'nin Üç tarafı denizlerle çevrilidir batıda Ege Denizi kuzeyde Karadeniz ve güneyde Akdeniz\n"
     ]
    }
   ],
   "source": [
    "# Save as a temporary WAV file (needed for speech recognition)\n",
    "temp_wav = \"temp_audio.wav\"\n",
    "audio_segment.export(temp_wav, format=\"wav\")\n",
    "\n",
    "# Initialize speech recognizer\n",
    "recognizer = sr.Recognizer()\n",
    "# Load the temporary WAV file\n",
    "with sr.AudioFile(temp_wav) as source:\n",
    "    audio_data = recognizer.record(source)  # Capture the entire audio\n",
    "\n",
    "# Perform speech recognition\n",
    "try:\n",
    "    text = recognizer.recognize_google(audio_data,  language=\"tr-TR\")\n",
    "    print(\"Recognized Speech:\", text)\n",
    "except sr.UnknownValueError:\n",
    "    print(\"Speech recognition could not understand the audio\")\n",
    "except sr.RequestError:\n",
    "    print(\"Could not request results from Google Speech Recognition\")"
   ]
  },
  {
   "cell_type": "code",
   "execution_count": null,
   "metadata": {},
   "outputs": [],
   "source": []
  },
  {
   "cell_type": "code",
   "execution_count": null,
   "metadata": {},
   "outputs": [],
   "source": []
  },
  {
   "cell_type": "code",
   "execution_count": null,
   "metadata": {},
   "outputs": [],
   "source": []
  },
  {
   "cell_type": "code",
   "execution_count": null,
   "metadata": {},
   "outputs": [],
   "source": []
  }
 ],
 "metadata": {
  "kernelspec": {
   "display_name": "nlp_slp_env",
   "language": "python",
   "name": "python3"
  },
  "language_info": {
   "codemirror_mode": {
    "name": "ipython",
    "version": 3
   },
   "file_extension": ".py",
   "mimetype": "text/x-python",
   "name": "python",
   "nbconvert_exporter": "python",
   "pygments_lexer": "ipython3",
   "version": "3.11.7"
  }
 },
 "nbformat": 4,
 "nbformat_minor": 2
}
